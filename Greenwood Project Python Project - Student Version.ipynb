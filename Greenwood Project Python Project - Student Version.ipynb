{
 "cells": [
  {
   "cell_type": "markdown",
   "metadata": {},
   "source": [
    "# Project Introduction\n",
    "\n",
    "In the below project we will explore the power of python on financial analysis. Python is a terrific tool for analyses of any type, and financial analysis is no exception. Using only code, we will analyze and plot the returns of Tesla (NASDAQ: TSLA) and Amazon (NASDAQ: AMZN) and compare those returns to the broader market as approximated by the S&P 500. We will also calculate 2 common measures of risk and volatility - Beta and the Sharpe Ratio, both of which are commonly used by financial analysts when evaluating a stock.\n",
    "\n",
    "We will approximate the performance of the S&P 500 using the SPDR S&P 500 ETF which has ticker \"SPY\". This is a commonly used benchmark in real world financial analysis.\n",
    "\n",
    "On top of it all we will design our code to be reproducible so that once complete, we can load in different data that has a similar format and produce the same results for that new data!"
   ]
  },
  {
   "cell_type": "code",
   "execution_count": 1,
   "metadata": {},
   "outputs": [],
   "source": [
    "# import packages\n",
    "import numpy as np\n",
    "import pandas as pd\n",
    "\n",
    "import matplotlib.pyplot as plt\n",
    "import matplotlib.ticker as mtick\n",
    "%matplotlib inline\n",
    "\n",
    "import warnings\n",
    "warnings.filterwarnings(\"ignore\")\n",
    "\n",
    "plt.style.use('seaborn')"
   ]
  },
  {
   "cell_type": "markdown",
   "metadata": {},
   "source": [
    "## 1. Import and Look at the Data\n",
    "Before starting any sort of analysis or project it is always important to look at your data to get a feel for what you are dealing with. Below you will read in your data from a csv (comma separated values) file, take a peak at a few rows of the data, and generate some summary statistics to give a better picture of what is contained in your file."
   ]
  },
  {
   "cell_type": "code",
   "execution_count": 2,
   "metadata": {},
   "outputs": [],
   "source": [
    "# read in the stock data ('Stock_Data.csv') using pandas and save as a dataframe called df\n",
    "# in your read statement include parse_dates=['Date'] and set the 'Date' column to the index using index_col\n",
    "# print the first 5 rows of the dataframe\n",
    "\n",
    "### Your Code Here ###"
   ]
  },
  {
   "cell_type": "code",
   "execution_count": 3,
   "metadata": {},
   "outputs": [],
   "source": [
    "# use pandas .describe() function on df to generate summary statistics on the data\n",
    "\n",
    "### Your Code Here ###"
   ]
  },
  {
   "cell_type": "code",
   "execution_count": 4,
   "metadata": {},
   "outputs": [],
   "source": [
    "# print out the latest prices for each ticker\n",
    "\n",
    "### Your Code Here ###"
   ]
  },
  {
   "cell_type": "code",
   "execution_count": 5,
   "metadata": {},
   "outputs": [],
   "source": [
    "# trim df to only include data from the last 5 years onward name this new dataframe trim_df\n",
    "# use the pandas .iloc function and the variable num_days to do this\n",
    "# print the last 5 rows\n",
    "# Hint: put a negative sign infront of num_days followed by a colon to get the right timeframe\n",
    "\n",
    "num_days = 252 * 5 #there are 252 trading days in a year so we multiply that number by 5 to get the last 5 years of prices \n",
    "\n",
    "### Your Code Here ###"
   ]
  },
  {
   "cell_type": "code",
   "execution_count": 6,
   "metadata": {},
   "outputs": [],
   "source": [
    "# create variables to save your ticker names - this will allow you to use the same code on a different \n",
    "# file with different stock data and still produce the same results without having to rewrite any code\n",
    "# name the variables t1, t2, and m1\n",
    "\n",
    "### Your Code Here ###"
   ]
  },
  {
   "cell_type": "markdown",
   "metadata": {},
   "source": [
    "## 2. Visualize the Data\n",
    "Now that you have taken a look at your data and have a bit of an understanding of what it contains, the next step is to visualize the information with plots. Try plotting the prices of each ticker over the past 5 years on 3 separate plots"
   ]
  },
  {
   "cell_type": "code",
   "execution_count": 7,
   "metadata": {},
   "outputs": [],
   "source": [
    "# plot the 5 year stock prices for each ticker\n",
    "\n",
    "### Your Code Here ###"
   ]
  },
  {
   "cell_type": "markdown",
   "metadata": {},
   "source": [
    "If done correctly you should see some interesting shapes in the data. It looks like AMZN and SPY have somewhat similar shapes, though SPY took more of a dip than AMZN from COVID-19. TSLA on the other hand has seen monstrous growth over the past 12 months and even over the past 2 months!"
   ]
  },
  {
   "cell_type": "markdown",
   "metadata": {},
   "source": [
    "## 3. Calculating Daily Returns\n",
    "These charts are pretty interesting, but we can probably get more insight from our data by augmenting it with a few additional columns. While looking at the price of a given security can be informative it can be more valuable to analyze a security's returns. This can be done in 2 main ways - analyzing daily returns and analyzing total return for a given time period. We will focus on daily returns now and then total returns later."
   ]
  },
  {
   "cell_type": "code",
   "execution_count": 8,
   "metadata": {},
   "outputs": [],
   "source": [
    "# create 3 new columns in trim_df called TSLA Daily Returns, AMZN Daily Returns, and SPY Daily Returns\n",
    "# that contain the daily % change in price for each ticker. Use the pct_change() function to do this\n",
    "# print the first 5 rows. if done correctly the first row should have NaN for these news columns\n",
    "# (remember to use the t1, t2, and m1 variables for reproducability)\n",
    "\n",
    "### Your Code Here ###"
   ]
  },
  {
   "cell_type": "markdown",
   "metadata": {},
   "source": [
    "## 4. Plot Daily Returns\n",
    "Now that we have the daily returns for each of our securities let's plot them on a single chart to compare them to one another"
   ]
  },
  {
   "cell_type": "code",
   "execution_count": 9,
   "metadata": {},
   "outputs": [],
   "source": [
    "# plot the daily returns for each ticker on one plot\n",
    "# make sure to add labels and a legend for each security so that you can interpret the results\n",
    "# (remember to use the t1, t2, and m1 variables for reproducability)\n",
    "\n",
    "### Your Code Here ###"
   ]
  },
  {
   "cell_type": "markdown",
   "metadata": {},
   "source": [
    "Wow! The TSLA daily returns are all over the place! This plot tells us that TSLA is more volatile than the broader market (SPY). We will check our assumption that TSLA is more volatile than SPY be caluclating its Beta and sharpe ratio, which are 2 measures of risk/reward for a given security. It also appears that AMZN is more volatile than SPY as well. We can check this assumption using Beta."
   ]
  },
  {
   "cell_type": "markdown",
   "metadata": {},
   "source": [
    "## 5. Calculating Beta\n",
    "Beta is a statistical measure of a stock's volatility in relation to the overall market and is a tool commonly used and almost always included in any analysis of a stock's returns. The formula for beta is below:\n",
    "\n",
    "\n",
    "\\begin{align}\n",
    "\\beta_s = \\frac{Cov(r_s,r_m)}{Var(r_m)}\n",
    "\\end{align}\n",
    "\n",
    "Where:\n",
    "- $\\beta_s$ = beta of a stock\n",
    "- $r_s$ = return on the stock\n",
    "- $r_m$ = return on the market\n",
    "- $Cov(r_s,r_m)$ = covariance of the stock and the market\n",
    "- $Var(r_m)$ = variance of the market\n",
    "\n",
    "By definition, the beta of the market (the S&P 500 in our case) is 1.0. The stock with a higher beta is expected to be more volatile than the market, and a stock with a lower beta is less volatile. For example, a beta of 1.1 means that for every 1% **move up or down** in the market, the stock will move 1.1%.\n",
    "\n",
    "Below we will calculate the betas for TSLA and AMZN and compare them.\n",
    "\n",
    "Learn more about beta here: https://www.investopedia.com/terms/b/beta.asp"
   ]
  },
  {
   "cell_type": "code",
   "execution_count": 10,
   "metadata": {},
   "outputs": [],
   "source": [
    "# create 3 variables rs1, rs2, and rm1 that contain TSLA, AMZN, and SPY Daily Returns from our trim_df dataframe\n",
    "# use .iloc[1:] to avoid the NaN row in the first position of each column\n",
    "# (remember to use the t1, t2, and m1 variables for reproducability)\n",
    "\n",
    "### Your Code Here ###"
   ]
  },
  {
   "cell_type": "code",
   "execution_count": 11,
   "metadata": {},
   "outputs": [],
   "source": [
    "# the beta formula above can seem a little daunting. thankfully numpy makes the math very easy for us\n",
    "# use the np.cov() function to calculate the covariance matrix rs1, rm1 and rs2, rm1 (always have rm1 in the second positon)\n",
    "# save down these matrices as mat_rs1 and mat_rs2. print out one of the matrices to view it\n",
    "\n",
    "### Your Code Here ###"
   ]
  },
  {
   "cell_type": "code",
   "execution_count": 12,
   "metadata": {},
   "outputs": [],
   "source": [
    "# this matrix is a 2 x 2 numpy array and it contains the covariance of the stock and the market as well as the variance \n",
    "# of the individual stock and of the market. the covariance is in positon [0, 1] and the variance of the market is in\n",
    "# position [1, 1]. using these positons save down 3 new variables cov_rs1, cov_rs2, and var_rm\n",
    "\n",
    "### Your Code Here ###"
   ]
  },
  {
   "cell_type": "code",
   "execution_count": 13,
   "metadata": {},
   "outputs": [],
   "source": [
    "# execute this cell to see what the betas for each stock are \n",
    "# (this cell's code comes with notebook - students don't need to write)\n",
    "\n",
    "### Your Code Here ###"
   ]
  },
  {
   "cell_type": "markdown",
   "metadata": {},
   "source": [
    "Interesting. It looks like our hypothesis for TSLA holds true. TSLA has a higher beta than AMZN and SPY (beta of 1.0), which we expected from our daily returns chart. This indicates that the stock is more volatile and potentially riskier than AMZN and SPY. AMZN on the other hand appears to be less volatile than the market based on the 5 year beta, but in our daily returns plot it seemed more volatile? Why would this be? Look back up at our original plots of price for AMZN and SPY. Notice that SPY had a huge dip in early 2020, but AMZN had only a little dip (the dip was due to the market's reaction to COVID-19)? Well this dip in SPY drastically increased SPY's variance, thus driving down beta for both TSLA and AMZN. You can check this yourself by doing the same calculation for the 5 years leading up February 2020. The beta's for TSLA and AMZN should both be well over 1.0.\n",
    "\n",
    "What a beta < 1.0 for AMZN could indicate is that in normal market conditions AMZN's price moved around more than the market, but in the face of the COVID-19 volatility, AMZN was actually less volatile than the rest of the market."
   ]
  },
  {
   "cell_type": "markdown",
   "metadata": {},
   "source": [
    "## 6. Calculating Total Return\n",
    "The next thing we might be interested in is the overall return for each security over our given timeframe (past 5 years). When we used the pct_change() function to calcualte daily returns, we were essentially taking the next days price and dividing it by the price of the day before. Now that we want to calculate total return we need to divide each price by the very first price in our timeframe. Let's do it below:"
   ]
  },
  {
   "cell_type": "code",
   "execution_count": 14,
   "metadata": {},
   "outputs": [],
   "source": [
    "# create 3 new columns in trim_df called TSLA Total Return, AMZN total Return, and SPY Total Return\n",
    "# calculate these by taking the price column and dividing it by the first element of the price column and subtract 1\n",
    "# for each stock - remember the first element is in position 0\n",
    "# use pandas .iloc to grab the first element of a column\n",
    "# print the first 5 rows\n",
    "# (remember to use the t1, t2, and m1 variables for reproducability)\n",
    "\n",
    "### Your Code Here ###"
   ]
  },
  {
   "cell_type": "markdown",
   "metadata": {},
   "source": [
    "## 7. Plotting Total Return\n",
    "Now that we have calculated total return for each stock, we can plot all of them on the same graph to do an apples to apples comparison of their performance"
   ]
  },
  {
   "cell_type": "code",
   "execution_count": 15,
   "metadata": {},
   "outputs": [],
   "source": [
    "# reuse the code from plotting the daily returns but use it for Total Return this time\n",
    "\n",
    "### Your Code Here ###"
   ]
  },
  {
   "cell_type": "code",
   "execution_count": 16,
   "metadata": {},
   "outputs": [],
   "source": [
    "# print the overall return for each security over the past 5 years (last element in each Total Return column)\n",
    "\n",
    "### Your Code Here ###"
   ]
  },
  {
   "cell_type": "markdown",
   "metadata": {},
   "source": [
    "Wow this looks pretty interesting. If you were to invest \\\\$1,000 in the S&P 500 5 years ago you would have a total value of \\\\$1,670 which isn't bad. If, on the other hand you invested that \\\\$1,000 in TSLA you would have \\\\$5,460! And if instead of either of those you invested the \\\\$1,000 in AMZN you would have \\\\$6,130!"
   ]
  },
  {
   "cell_type": "markdown",
   "metadata": {},
   "source": [
    "## 8. Calculating Sharp-Ratio\n",
    "The Sharpe ratio, developed by Nobel prize winner William F. Sharpe, is a measure of return for an investment compared to its risk. The ratio is the average return earned in excess of the risk-free rate per unit of volatility or total risk. The formula for the Sharpe Ratio is below:\n",
    "\n",
    "\\begin{align}\n",
    "Sharpe Ratio = \\frac{R_s - R_f}{\\sigma_s}\n",
    "\\end{align}\n",
    "\n",
    "Where:\n",
    "- $R_s$ = return of a stock\n",
    "- $R_f$ = the risk-free rate or the returns of another benchmark\n",
    "- $\\sigma_s$ = standard deviation of the stock's excess returns\n",
    "\n",
    "Typically the higher the Sharpe Ratio the more attractive the risk adjusted return of the stock is.\n",
    "For this project we will be using the return of the S&P 500 (SPY) instead of the risk-free rate. Substituting a benchmark like this for the risk-free rate allows us to see how much more return we get for a unit of risk by investing in something other than the benchmark.\n",
    "\n",
    "Learn more about the Sharp Ratio here: https://www.investopedia.com/terms/s/sharperatio.asp"
   ]
  },
  {
   "cell_type": "code",
   "execution_count": 17,
   "metadata": {},
   "outputs": [],
   "source": [
    "# calculate the excess return for each stock by subtracting the DAILY return of SPY from the SAILY return of the stock\n",
    "# save down these as t1_excess_return and t2_excess_return\n",
    "\n",
    "### Your Code Here ###"
   ]
  },
  {
   "cell_type": "code",
   "execution_count": 18,
   "metadata": {},
   "outputs": [],
   "source": [
    "# calculate the average and standard deviation of the excess returns\n",
    "# save this down as t1_avg_excess_return, t2_avg_excess_return, t1_sd_excess_return, and t2_sd_excess_return\n",
    "\n",
    "### Your Code Here ###"
   ]
  },
  {
   "cell_type": "code",
   "execution_count": 19,
   "metadata": {},
   "outputs": [],
   "source": [
    "# calculate the daily sharpe ratio of each stock by t1_avg_excess_return / t1_sd_excess_return  \n",
    "# save down as t1_daily_sharpe_ratio and t2_daily_sharpe_ratio\n",
    "\n",
    "### Your Code Here ###"
   ]
  },
  {
   "cell_type": "code",
   "execution_count": 20,
   "metadata": {},
   "outputs": [],
   "source": [
    "# annualize the daily sharpe ratio by multiplying t1_daily_sharpe_ratio * np.sqrt(252)\n",
    "# 252 is the number of trading days in a year (week days minus holidays)\n",
    "# save the results as t1_annual_sharpe_ratio and t2_annual_sharpe_ratio\n",
    "\n",
    "### Your Code Here ###"
   ]
  },
  {
   "cell_type": "code",
   "execution_count": 21,
   "metadata": {},
   "outputs": [],
   "source": [
    "# print the annualized sharpe ratio for each ticker\n",
    "\n",
    "### Your Code Here ###"
   ]
  },
  {
   "cell_type": "markdown",
   "metadata": {},
   "source": [
    "Consistent with what we found in beta, AMZN has a higher expected risk to reward ratio than TSLA, which was more volatile. Try running these calcuations for different time periods and see if this relationship stays the same or changes."
   ]
  },
  {
   "cell_type": "markdown",
   "metadata": {},
   "source": [
    "# Conclusion\n",
    "Congratulations! You have just performed some pretty sophisticated financial analysis using just python. If you were able to get through the entire notebook using the variables created at the very beginning, (t1, t2, and m1) then you can see the power of python by running this notebook again on different stocks and seeing the results! Try rerunning the whole notebook but this time import Stock_Data2.csv in the initial cell."
   ]
  },
  {
   "cell_type": "markdown",
   "metadata": {},
   "source": [
    "*This project was created by Sam DeTrempe for exclusive use by the Greenwood Project.*"
   ]
  }
 ],
 "metadata": {
  "kernelspec": {
   "display_name": "Python 3",
   "language": "python",
   "name": "python3"
  },
  "language_info": {
   "codemirror_mode": {
    "name": "ipython",
    "version": 3
   },
   "file_extension": ".py",
   "mimetype": "text/x-python",
   "name": "python",
   "nbconvert_exporter": "python",
   "pygments_lexer": "ipython3",
   "version": "3.7.3"
  }
 },
 "nbformat": 4,
 "nbformat_minor": 2
}
