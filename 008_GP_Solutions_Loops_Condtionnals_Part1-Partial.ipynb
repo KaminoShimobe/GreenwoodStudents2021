{
 "cells": [
  {
   "cell_type": "markdown",
   "metadata": {},
   "source": [
    "# GreenWood Project - Python Course: \n",
    "\n",
    "## Exercices Loops/Conditionnals statements - Part 1\n",
    "---"
   ]
  },
  {
   "cell_type": "code",
   "execution_count": 3,
   "metadata": {},
   "outputs": [],
   "source": [
    "import random\n",
    "#import pandas as pd\n",
    "random.seed(55)"
   ]
  },
  {
   "cell_type": "markdown",
   "metadata": {},
   "source": [
    "<div class=\"alert alert-block alert-success\">\n",
    "<b>Bear in mind:</b> Use Conditionnal Statements\n",
    "</div>"
   ]
  },
  {
   "cell_type": "markdown",
   "metadata": {},
   "source": [
    "### Question 1\n",
    "Given two lists a, b. Check if two lists have at least one element common in them."
   ]
  },
  {
   "cell_type": "code",
   "execution_count": 4,
   "metadata": {},
   "outputs": [
    {
     "data": {
      "text/plain": [
       "([1, 2, 2, 6, 3, 7, 1, 6, 2, 3], [3, 7, 13, 12, 9, 10, 8, 8, 10, 8])"
      ]
     },
     "execution_count": 4,
     "metadata": {},
     "output_type": "execute_result"
    }
   ],
   "source": [
    "a = [random.randrange(1, 8, 1) for i in range(10)]\n",
    "b = [random.randrange(2, 15, 1) for i in range(10)]\n",
    "a,b"
   ]
  },
  {
   "cell_type": "code",
   "execution_count": 9,
   "metadata": {},
   "outputs": [
    {
     "data": {
      "text/plain": [
       "False"
      ]
     },
     "execution_count": 9,
     "metadata": {},
     "output_type": "execute_result"
    }
   ],
   "source": [
    "a_set.isdisjoint(b_set)"
   ]
  },
  {
   "cell_type": "code",
   "execution_count": 7,
   "metadata": {},
   "outputs": [
    {
     "name": "stdout",
     "output_type": "stream",
     "text": [
      "True\n"
     ]
    }
   ],
   "source": [
    "a_set = set(a)\n",
    "b_set = set(b)\n",
    "if len(a_set.intersection(b_set)) > 0:\n",
    "    print(True)\n",
    "else:\n",
    "    print(False)"
   ]
  },
  {
   "cell_type": "code",
   "execution_count": 12,
   "metadata": {},
   "outputs": [
    {
     "name": "stdout",
     "output_type": "stream",
     "text": [
      "ok\n"
     ]
    }
   ],
   "source": [
    "if not {}:\n",
    "    print('ok')"
   ]
  },
  {
   "cell_type": "markdown",
   "metadata": {},
   "source": [
    "## Question 2\n",
    "\n",
    "Check if an element occurs more than a certain number of times in the list.\n",
    "\n",
    "Does 4 occur atleast 3 times ?"
   ]
  },
  {
   "cell_type": "code",
   "execution_count": 9,
   "metadata": {},
   "outputs": [
    {
     "data": {
      "text/plain": [
       "[3, 6, 4, 5, 7, 6, 1, 6, 3, 1]"
      ]
     },
     "execution_count": 9,
     "metadata": {},
     "output_type": "execute_result"
    }
   ],
   "source": [
    "a = [random.randrange(1, 8, 1) for i in range(10)]\n",
    "a"
   ]
  },
  {
   "cell_type": "code",
   "execution_count": 7,
   "metadata": {},
   "outputs": [
    {
     "data": {
      "text/plain": [
       "False"
      ]
     },
     "execution_count": 7,
     "metadata": {},
     "output_type": "execute_result"
    }
   ],
   "source": [
    "out = False\n",
    "for x in a:\n",
    "    if x == 4 and a.count(x) >= 3:\n",
    "        out = True\n",
    "        break\n",
    "    else:\n",
    "        pass\n",
    "out"
   ]
  },
  {
   "cell_type": "markdown",
   "metadata": {},
   "source": [
    "## Question 3\n",
    "\n",
    "1. Create a list for years from 2010 until 2020 except for 2011 and 2018.\n",
    "2. Unorder the previous list with <code>random.shuffle()</code>,\n",
    "\n",
    "Now write a code to sort the list without using <code>sort()</code>"
   ]
  },
  {
   "cell_type": "code",
   "execution_count": 29,
   "metadata": {},
   "outputs": [
    {
     "data": {
      "text/plain": [
       "[2010, 2012, 2013, 2014, 2015, 2016, 2017, 2019, 2020]"
      ]
     },
     "execution_count": 29,
     "metadata": {},
     "output_type": "execute_result"
    }
   ],
   "source": [
    "lst = [y for y in range(2010,2020+1) if y not in [2011,2018]]\n",
    "lst"
   ]
  },
  {
   "cell_type": "code",
   "execution_count": 30,
   "metadata": {},
   "outputs": [
    {
     "data": {
      "text/plain": [
       "[2012, 2017, 2020, 2010, 2019, 2014, 2013, 2016, 2015]"
      ]
     },
     "execution_count": 30,
     "metadata": {},
     "output_type": "execute_result"
    }
   ],
   "source": [
    "random.shuffle(lst)\n",
    "lst"
   ]
  },
  {
   "cell_type": "code",
   "execution_count": 75,
   "metadata": {},
   "outputs": [
    {
     "data": {
      "text/plain": [
       "[2010, 2012, 2014, 2015, 2013, 2017, 2016, 2019, 2020]"
      ]
     },
     "execution_count": 75,
     "metadata": {},
     "output_type": "execute_result"
    }
   ],
   "source": [
    "i = 0\n",
    "new = []\n",
    "\n",
    "for x in range(len(lst)):\n",
    "    while i < 8:\n",
    "        if lst[i]> lst[i+1]:\n",
    "            lst[i],lst[i+1] = lst[i+1],lst[i]\n",
    "        else:\n",
    "            pass\n",
    "        i+=1\n",
    "lst"
   ]
  },
  {
   "cell_type": "code",
   "execution_count": 61,
   "metadata": {},
   "outputs": [
    {
     "data": {
      "text/plain": [
       "[2010, 2012, 2013, 2014, 2015, 2016, 2017, 2019, 2020]"
      ]
     },
     "execution_count": 61,
     "metadata": {},
     "output_type": "execute_result"
    }
   ],
   "source": [
    "n = len(lst)\n",
    "for i in range(n):\n",
    "     for j in range(n - i - 1):\n",
    "            if lst[j] > lst[j + 1]:\n",
    "                lst[j], lst[j + 1] = lst[j + 1], lst[j]\n",
    "lst"
   ]
  },
  {
   "cell_type": "code",
   "execution_count": 33,
   "metadata": {},
   "outputs": [
    {
     "name": "stdout",
     "output_type": "stream",
     "text": [
      "Enter Guess13\n",
      "Higher, try again\n",
      "Enter Guess4\n",
      "Lower,try again\n",
      "Enter Guess3\n",
      "Lower,try again\n",
      "tries >=3\n"
     ]
    }
   ],
   "source": [
    "number = 7\n",
    "tries = 0\n",
    "\n",
    "GameOver = False\n",
    "\n",
    "while GameOver == False and tries < 3 :\n",
    "    guess = int(input('Enter Guess'))\n",
    "    tries += 1\n",
    "    if guess == number:\n",
    "        print('guess correct')\n",
    "        GameOver == True\n",
    "    elif guess > number:\n",
    "        print('Higher, try again')\n",
    "    elif guess < number:\n",
    "        print('Lower,try again')\n",
    "else:\n",
    "    print('tries >=3')"
   ]
  },
  {
   "cell_type": "markdown",
   "metadata": {},
   "source": [
    "## Question 4\n",
    "\n",
    "Let's consider 5 companies: 'T','Y','F','M','R' whith their relative staff number, managers number and cash flow (positive or negative).\n",
    "\n",
    "1. Build a data type to store the companies infos where:\n",
    "\n",
    "1.1. Companies full name must contain '_Corporate' except for 'R' and 'F' where it is '_Startup'\n",
    "\n",
    "1.2. Staff Number is the comapany name position in the alphabet multiplied by 1000. \n",
    "    \n",
    "    use **ord()** function which returns the number representing the unicode code of a specified character\n",
    "    \n",
    "1.3. Managers number in a company is the comapany name position in the alphabet added to 10 if the sum is less than 30, otherwise it is 45.\n",
    "\n",
    "1.4. Cash flow is positive if company is a corporate and staff number is higher than 10000 or company is a startup and managers numbers is less than 40\n",
    "\n",
    "\n",
    "2. Now that your you have built your data, print companies which cash flow is positive and managers are no more than 30. "
   ]
  },
  {
   "cell_type": "code",
   "execution_count": 47,
   "metadata": {},
   "outputs": [],
   "source": [
    "d ={}\n",
    "# Companies full name must contain '_Corporate' except for 'R' and 'F' where it is '_Startup'\n",
    "letters = ['T','Y','F','M','R']\n",
    "d['company'] = letters\n",
    "lst = []\n",
    "for x in d['company']:\n",
    "    if x!='R' and x!='F':\n",
    "        lst.append('{}'.format(x+'_Corporate'))\n",
    "    else:\n",
    "        lst.append('{}'.format(x+'_Startup'))"
   ]
  },
  {
   "cell_type": "code",
   "execution_count": 48,
   "metadata": {},
   "outputs": [
    {
     "data": {
      "text/plain": [
       "{'company': ['T_Corporate',\n",
       "  'Y_Corporate',\n",
       "  'F_Startup',\n",
       "  'M_Corporate',\n",
       "  'R_Startup']}"
      ]
     },
     "execution_count": 48,
     "metadata": {},
     "output_type": "execute_result"
    }
   ],
   "source": [
    "d['company'] = lst\n",
    "d"
   ]
  },
  {
   "cell_type": "code",
   "execution_count": 49,
   "metadata": {},
   "outputs": [
    {
     "data": {
      "text/plain": [
       "['T_Corporate_Corporate',\n",
       " 'Y_Corporate_Corporate',\n",
       " 'F_Startup_Corporate',\n",
       " 'M_Corporate_Corporate',\n",
       " 'R_Startup_Corporate']"
      ]
     },
     "execution_count": 49,
     "metadata": {},
     "output_type": "execute_result"
    }
   ],
   "source": [
    "# [f(x) if condition else g(x) for x in sequence]\n",
    "['{}'.format(x+'_Corporate') if x!='R' and x!='F' else '{}'.format(x+'_Startup') for x in d['company']]"
   ]
  },
  {
   "cell_type": "code",
   "execution_count": 50,
   "metadata": {},
   "outputs": [
    {
     "data": {
      "text/plain": [
       "{'company': ['T_Corporate',\n",
       "  'Y_Corporate',\n",
       "  'F_Startup',\n",
       "  'M_Corporate',\n",
       "  'R_Startup'],\n",
       " 'staff': [20000, 25000, 6000, 13000, 18000]}"
      ]
     },
     "execution_count": 50,
     "metadata": {},
     "output_type": "execute_result"
    }
   ],
   "source": [
    "# Staff Number is the comapany name position in the alphabet multiplied by 1000\n",
    "d['staff'] = [1000*(ord(x[0])-65+1) for x in d['company']]\n",
    "d"
   ]
  },
  {
   "cell_type": "code",
   "execution_count": 51,
   "metadata": {},
   "outputs": [
    {
     "data": {
      "text/plain": [
       "{'company': ['T_Corporate',\n",
       "  'Y_Corporate',\n",
       "  'F_Startup',\n",
       "  'M_Corporate',\n",
       "  'R_Startup'],\n",
       " 'staff': [20000, 25000, 6000, 13000, 18000],\n",
       " 'managers': [45, 45, 16, 23, 28]}"
      ]
     },
     "execution_count": 51,
     "metadata": {},
     "output_type": "execute_result"
    }
   ],
   "source": [
    "# Managers number the comapany name position in the alphabet \n",
    "# added to 10 if the sum is less than 30, otherwise it is 45\n",
    "d['managers'] = [10 + (ord(x[0])-65+1) if 10+(ord(x[0])-65+1)<30 else 45 for x in d['company']]\n",
    "d"
   ]
  },
  {
   "cell_type": "code",
   "execution_count": 77,
   "metadata": {},
   "outputs": [
    {
     "data": {
      "text/plain": [
       "{'company': ['T_Corporate',\n",
       "  'Y_Corporate',\n",
       "  'F_Startup',\n",
       "  'M_Corporate',\n",
       "  'R_Startup'],\n",
       " 'staff': [20000, 25000, 6000, 13000, 18000],\n",
       " 'managers': [45, 45, 16, 23, 28],\n",
       " 'CashFlow': ['Positive', 'Positive', 'Negative', 'Positive', 'Negative']}"
      ]
     },
     "execution_count": 77,
     "metadata": {},
     "output_type": "execute_result"
    }
   ],
   "source": [
    "# Cash flow is positive if company is a corporate and staff number is higher than 10000\n",
    "# or company is a startup and managers numbers is less than 40\n",
    "d['CashFlow'] = ['Positive' if ('Corporate' in x and y> 10000) or ('Startup' in x and z >40) else 'Negative' for x,y,z in zip(d['company'],d['staff'],d['managers'])]\n",
    "d"
   ]
  },
  {
   "cell_type": "code",
   "execution_count": 53,
   "metadata": {},
   "outputs": [
    {
     "data": {
      "text/plain": [
       "{'company': ['T_Corporate',\n",
       "  'Y_Corporate',\n",
       "  'F_Startup',\n",
       "  'M_Corporate',\n",
       "  'R_Startup'],\n",
       " 'staff': [20000, 25000, 6000, 13000, 18000],\n",
       " 'managers': [45, 45, 16, 23, 28],\n",
       " 'CashFlow': ['Positive', 'Positive', 'Negative', 'Positive', 'Negative']}"
      ]
     },
     "execution_count": 53,
     "metadata": {},
     "output_type": "execute_result"
    }
   ],
   "source": [
    "#[val for key,val in d.items() if key =='managers' and val>30]\n",
    "#{ key: value for key, value in d.items() if key == \"managers\" and value > 30}"
   ]
  },
  {
   "cell_type": "code",
   "execution_count": 54,
   "metadata": {},
   "outputs": [
    {
     "data": {
      "text/html": [
       "<div>\n",
       "<style scoped>\n",
       "    .dataframe tbody tr th:only-of-type {\n",
       "        vertical-align: middle;\n",
       "    }\n",
       "\n",
       "    .dataframe tbody tr th {\n",
       "        vertical-align: top;\n",
       "    }\n",
       "\n",
       "    .dataframe thead th {\n",
       "        text-align: right;\n",
       "    }\n",
       "</style>\n",
       "<table border=\"1\" class=\"dataframe\">\n",
       "  <thead>\n",
       "    <tr style=\"text-align: right;\">\n",
       "      <th></th>\n",
       "      <th>company</th>\n",
       "      <th>staff</th>\n",
       "      <th>managers</th>\n",
       "      <th>CashFlow</th>\n",
       "    </tr>\n",
       "  </thead>\n",
       "  <tbody>\n",
       "    <tr>\n",
       "      <th>0</th>\n",
       "      <td>T_Corporate</td>\n",
       "      <td>20000</td>\n",
       "      <td>45</td>\n",
       "      <td>Positive</td>\n",
       "    </tr>\n",
       "    <tr>\n",
       "      <th>1</th>\n",
       "      <td>Y_Corporate</td>\n",
       "      <td>25000</td>\n",
       "      <td>45</td>\n",
       "      <td>Positive</td>\n",
       "    </tr>\n",
       "    <tr>\n",
       "      <th>2</th>\n",
       "      <td>F_Startup</td>\n",
       "      <td>6000</td>\n",
       "      <td>16</td>\n",
       "      <td>Negative</td>\n",
       "    </tr>\n",
       "    <tr>\n",
       "      <th>3</th>\n",
       "      <td>M_Corporate</td>\n",
       "      <td>13000</td>\n",
       "      <td>23</td>\n",
       "      <td>Positive</td>\n",
       "    </tr>\n",
       "    <tr>\n",
       "      <th>4</th>\n",
       "      <td>R_Startup</td>\n",
       "      <td>18000</td>\n",
       "      <td>28</td>\n",
       "      <td>Negative</td>\n",
       "    </tr>\n",
       "  </tbody>\n",
       "</table>\n",
       "</div>"
      ],
      "text/plain": [
       "       company  staff  managers  CashFlow\n",
       "0  T_Corporate  20000        45  Positive\n",
       "1  Y_Corporate  25000        45  Positive\n",
       "2    F_Startup   6000        16  Negative\n",
       "3  M_Corporate  13000        23  Positive\n",
       "4    R_Startup  18000        28  Negative"
      ]
     },
     "execution_count": 54,
     "metadata": {},
     "output_type": "execute_result"
    }
   ],
   "source": [
    "pd.DataFrame(d)"
   ]
  },
  {
   "cell_type": "markdown",
   "metadata": {},
   "source": [
    "## Question 4\n",
    "\n",
    "Given a list that contains numbers in the range from 1 to <code>a.length</code>.\n",
    "\n",
    "Find the first duplicate number for which the second occurrence has the highest index"
   ]
  },
  {
   "cell_type": "code",
   "execution_count": 26,
   "metadata": {},
   "outputs": [
    {
     "data": {
      "text/plain": [
       "[2, 4, 1, 2, 4, 3]"
      ]
     },
     "execution_count": 26,
     "metadata": {},
     "output_type": "execute_result"
    }
   ],
   "source": [
    "a = [2, 4, 1, 2, 4, 3]\n",
    "a"
   ]
  },
  {
   "cell_type": "markdown",
   "metadata": {},
   "source": [
    "## Question 5\n",
    "\n",
    "You are given an n x n 2D list.\n",
    "\n",
    "Rotate it in clockwise direction."
   ]
  },
  {
   "cell_type": "code",
   "execution_count": 1,
   "metadata": {},
   "outputs": [],
   "source": [
    "a = [[1, 0, 1],\n",
    "     [-1, -1, 0],\n",
    "     [1, 0, 1]]"
   ]
  },
  {
   "cell_type": "code",
   "execution_count": 2,
   "metadata": {},
   "outputs": [],
   "source": [
    "a_rot = [[1, -1, 1],\n",
    "         [0, -1, 0],\n",
    "         [1, 0, 1]]"
   ]
  },
  {
   "cell_type": "code",
   "execution_count": 11,
   "metadata": {},
   "outputs": [
    {
     "data": {
      "text/plain": [
       "[0, -1, 0]"
      ]
     },
     "execution_count": 11,
     "metadata": {},
     "output_type": "execute_result"
    }
   ],
   "source": [
    "# hint: how to grab one column; first column here\n",
    "[a[i][0] for i in range(3)]"
   ]
  },
  {
   "cell_type": "code",
   "execution_count": 12,
   "metadata": {},
   "outputs": [
    {
     "data": {
      "text/plain": [
       "[0, -1, 0]"
      ]
     },
     "execution_count": 12,
     "metadata": {},
     "output_type": "execute_result"
    }
   ],
   "source": [
    "# second column\n",
    "[a[i][1] for i in range(3)]"
   ]
  },
  {
   "cell_type": "markdown",
   "metadata": {},
   "source": [
    "## Question 6\n",
    "\n",
    "You have two lists of integers, a and b, and an integer target value v.\n",
    "\n",
    "Determine whether there is a pair of numbers, where one number is taken from a and the other from b, that can be added together to get a sum of v.\n",
    "\n",
    "Return true if such a pair exists, otherwise return false"
   ]
  },
  {
   "cell_type": "code",
   "execution_count": 29,
   "metadata": {},
   "outputs": [],
   "source": [
    "a = [1, 13, 3]\n",
    "b = [11, 21, 17, 40]\n",
    "v = 53"
   ]
  },
  {
   "cell_type": "markdown",
   "metadata": {},
   "source": [
    "## Question Optionnal\n",
    "\n",
    "Sudoku is a number-placement game. The objective is to fill a <code>9 × 9</code> grid with numbers in such a way that each column, each row, and each of the nine <code>3 × 3</code> sub-grids that compose the grid all contain all of the numbers from 1 to 9 one time.\n",
    "\n",
    "Implement an algorithm that will check whether the given grid of numbers represents a valid Sudoku puzzle according to the layout rules described above."
   ]
  },
  {
   "cell_type": "code",
   "execution_count": 4,
   "metadata": {},
   "outputs": [],
   "source": [
    "grid = [['.', '.', '.', '1', '4', '.', '.', '2', '.'],\n",
    "        ['.', '.', '6', '.', '.', '.', '.', '.', '.'],\n",
    "        ['.', '.', '.', '.', '.', '.', '.', '.', '.'],\n",
    "        ['.', '.', '1', '.', '.', '.', '.', '.', '.'],\n",
    "        ['.', '6', '7', '.', '.', '.', '.', '.', '9'],\n",
    "        ['.', '.', '.', '.', '.', '.', '8', '1', '.'],\n",
    "        ['.', '3', '.', '.', '.', '.', '.', '.', '6'],\n",
    "        ['.', '.', '.', '.', '.', '7', '.', '.', '.'],\n",
    "        ['.', '.', '.', '5', '.', '.', '.', '7', '.']]"
   ]
  },
  {
   "cell_type": "code",
   "execution_count": null,
   "metadata": {},
   "outputs": [],
   "source": [
    "grid_2 = [['.', '.', '.', '.', '2', '.', '.', '9', '.'],\n",
    "        ['.', '.', '.', '.', '6', '.', '.', '.', '.'],\n",
    "        ['7', '1', '.', '.', '7', '5', '.', '.', '.'],\n",
    "        ['.', '7', '.', '.', '.', '.', '.', '.', '.'],\n",
    "        ['.', '.', '.', '.', '8', '3', '.', '.', '.'],\n",
    "        ['.', '.', '8', '.', '.', '7', '.', '6', '.'],\n",
    "        ['.', '.', '.', '.', '.', '2', '.', '.', '.'],\n",
    "        ['.', '1', '.', '2', '.', '.', '.', '.', '.'],\n",
    "        ['.', '2', '.', '.', '3', '.', '.', '.', '.']]"
   ]
  },
  {
   "cell_type": "markdown",
   "metadata": {},
   "source": [
    "# Great Job!"
   ]
  }
 ],
 "metadata": {
  "kernelspec": {
   "display_name": "Python 3",
   "language": "python",
   "name": "python3"
  },
  "language_info": {
   "codemirror_mode": {
    "name": "ipython",
    "version": 3
   },
   "file_extension": ".py",
   "mimetype": "text/x-python",
   "name": "python",
   "nbconvert_exporter": "python",
   "pygments_lexer": "ipython3",
   "version": "3.8.6"
  }
 },
 "nbformat": 4,
 "nbformat_minor": 5
}
