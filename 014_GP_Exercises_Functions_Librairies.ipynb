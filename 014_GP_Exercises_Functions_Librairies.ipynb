{
 "cells": [
  {
   "cell_type": "markdown",
   "metadata": {
    "extensions": {
     "jupyter_dashboards": {
      "version": 1,
      "views": {
       "grid_default": {},
       "report_default": {
        "hidden": false
       }
      }
     }
    }
   },
   "source": [
    "___\n",
    "\n",
    "___\n",
    "# GreenWood Project - Python Course:\n",
    "\n",
    "## Exercices + Solutions - Functions/Librairies\n",
    "---"
   ]
  },
  {
   "cell_type": "markdown",
   "metadata": {},
   "source": [
    "## Exercise 1\n",
    "\n",
    "Given two integers, write a function which return True if the sum of the integers is 40 or if one of the integers is dividible by 4. If not, return False"
   ]
  },
  {
   "cell_type": "code",
   "execution_count": 3,
   "metadata": {},
   "outputs": [
    {
     "data": {
      "text/plain": [
       "(30, 10)"
      ]
     },
     "execution_count": 3,
     "metadata": {},
     "output_type": "execute_result"
    }
   ],
   "source": [
    "(3,10)\n",
    "(3.2,1)\n",
    "(30,10)"
   ]
  },
  {
   "cell_type": "markdown",
   "metadata": {},
   "source": [
    "## Exercise 2\n",
    "\n",
    "Write function which take a company informations and evaluates if it is based in Chicago.\n",
    "\n",
    "No Uppercase required.\n",
    "\n",
    "Display a message saying : Company ___ is/is not in Chicago"
   ]
  },
  {
   "cell_type": "code",
   "execution_count": 15,
   "metadata": {},
   "outputs": [],
   "source": [
    "C_1 = {'Name': 'Alabos',\n",
    "     'Staff': 1232,\n",
    "     'Sector': 'Materials',\n",
    "     'Address':'In chicago',\n",
    "     'Creation':1993}\n",
    "##\n",
    "C_2 = {'Name': 'NUMBA',\n",
    "     'Staff': 143,\n",
    "     'Sector': 'Technology',\n",
    "     'Address':'Chicango',\n",
    "     'Creation':2007}"
   ]
  },
  {
   "cell_type": "markdown",
   "metadata": {},
   "source": [
    "## Exercise 3\n",
    "\n",
    "1. Write a function where the following dict of n companies will be converted into n dicts of companies \n",
    "\n",
    "output should like:\n",
    "\n",
    "{'Date': ['2016-06-02',...\n",
    "\n",
    " 'Company': 'ADBE',\n",
    "\n",
    "'Price': [100.17,...]}\n",
    " \n",
    " 2. Now, Unpack these dictionnaries into n dict variables of names\n",
    " \n",
    "Adobe/FirstMajestic/Booking/Cocoa_Futures/HomeDepot\n",
    " \n",
    " 3. Write a function which calculates Returns of a price array such as:\n",
    " \n",
    " Return(today) = Price(today)/Price(Yesterday) - 1\n",
    " \n",
    " and returns results in %\n",
    " \n",
    " \n",
    " 4. For each of the previous companies, calculates the return on the daily prices.\n",
    " \n",
    " \n",
    " 5. Now, Calculates the cumulative returns for each company.\n"
   ]
  },
  {
   "cell_type": "code",
   "execution_count": 3,
   "metadata": {},
   "outputs": [
    {
     "data": {
      "text/plain": [
       "{'index': ['2016-06-02',\n",
       "  '2016-06-03',\n",
       "  '2016-06-06',\n",
       "  '2016-06-07',\n",
       "  '2016-06-08',\n",
       "  '2016-06-09',\n",
       "  '2016-06-10',\n",
       "  '2016-06-13',\n",
       "  '2016-06-14',\n",
       "  '2016-06-15'],\n",
       " 'columns': ['ADBE', 'AG', 'BKNG', 'Cocoa', 'HD'],\n",
       " 'data': [[100.17, 10.46, 1290.0, 3057.0, 119.13],\n",
       "  [98.7, 11.76, 1301.71, 3031.0, 118.52],\n",
       "  [99.12, 11.86, 1349.1, 3063.0, 116.23],\n",
       "  [98.52, 11.59, 1360.0, 3088.0, 116.89],\n",
       "  [98.68, 12.4, 1354.83, 3113.0, 116.59],\n",
       "  [98.07, 12.86, 1340.07, 3116.0, 116.33],\n",
       "  [97.09, 12.46, 1318.9, 3135.0, 115.9],\n",
       "  [96.96, 12.59, 1315.47, 3147.0, 115.0],\n",
       "  [96.98, 12.26, 1304.1, 3145.0, 112.67],\n",
       "  [97.02, 12.9, 1305.42, 3160.0, 113.84]]}"
      ]
     },
     "execution_count": 3,
     "metadata": {},
     "output_type": "execute_result"
    }
   ],
   "source": [
    "infos = {'index': ['2016-06-02',\n",
    "  '2016-06-03',\n",
    "  '2016-06-06',\n",
    "  '2016-06-07',\n",
    "  '2016-06-08',\n",
    "  '2016-06-09',\n",
    "  '2016-06-10',\n",
    "  '2016-06-13',\n",
    "  '2016-06-14',\n",
    "  '2016-06-15'],\n",
    " 'columns': ['ADBE', 'AG', 'BKNG', 'Cocoa', 'HD'],\n",
    " 'data': [[100.17, 10.46, 1290.0, 3057.0, 119.13],\n",
    "  [98.7, 11.76, 1301.71, 3031.0, 118.52],\n",
    "  [99.12, 11.86, 1349.1, 3063.0, 116.23],\n",
    "  [98.52, 11.59, 1360.0, 3088.0, 116.89],\n",
    "  [98.68, 12.4, 1354.83, 3113.0, 116.59],\n",
    "  [98.07, 12.86, 1340.07, 3116.0, 116.33],\n",
    "  [97.09, 12.46, 1318.9, 3135.0, 115.9],\n",
    "  [96.96, 12.59, 1315.47, 3147.0, 115.0],\n",
    "  [96.98, 12.26, 1304.1, 3145.0, 112.67],\n",
    "  [97.02, 12.9, 1305.42, 3160.0, 113.84]]}\n",
    "infos"
   ]
  },
  {
   "cell_type": "markdown",
   "metadata": {},
   "source": [
    "**2. Now, Unpack these dictionnaries into n dict variables**"
   ]
  },
  {
   "cell_type": "markdown",
   "metadata": {},
   "source": [
    "**3. Write a function which calculates Returns of a price array**"
   ]
  },
  {
   "cell_type": "markdown",
   "metadata": {},
   "source": [
    "**4. For each of the previous companies, calculates the return of the prices**"
   ]
  },
  {
   "cell_type": "markdown",
   "metadata": {},
   "source": [
    "**5. Now, Calculates the cumulative returns for each company.**"
   ]
  },
  {
   "cell_type": "markdown",
   "metadata": {},
   "source": [
    "### Optionnal\n",
    "\n",
    "* Which company returned the best return and vice versa ?"
   ]
  },
  {
   "cell_type": "markdown",
   "metadata": {
    "extensions": {
     "jupyter_dashboards": {
      "version": 1,
      "views": {
       "grid_default": {},
       "report_default": {
        "hidden": false
       }
      }
     }
    }
   },
   "source": [
    "# Great Job!"
   ]
  }
 ],
 "metadata": {
  "anaconda-cloud": {},
  "extensions": {
   "jupyter_dashboards": {
    "activeView": "report_default",
    "version": 1,
    "views": {
     "grid_default": {
      "cellMargin": 10,
      "defaultCellHeight": 20,
      "maxColumns": 12,
      "name": "grid",
      "type": "grid"
     },
     "report_default": {
      "name": "report",
      "type": "report"
     }
    }
   }
  },
  "kernelspec": {
   "display_name": "Python 3 (ipykernel)",
   "language": "python",
   "name": "python3"
  },
  "language_info": {
   "codemirror_mode": {
    "name": "ipython",
    "version": 3
   },
   "file_extension": ".py",
   "mimetype": "text/x-python",
   "name": "python",
   "nbconvert_exporter": "python",
   "pygments_lexer": "ipython3",
   "version": "3.9.6"
  }
 },
 "nbformat": 4,
 "nbformat_minor": 1
}
