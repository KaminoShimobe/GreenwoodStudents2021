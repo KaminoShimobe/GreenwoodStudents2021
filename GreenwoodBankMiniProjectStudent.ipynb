{
 "cells": [
  {
   "cell_type": "markdown",
   "metadata": {},
   "source": [
    "# Greenwood Enterprises Project\n",
    "## Model Bank Application designed for Python practice"
   ]
  },
  {
   "cell_type": "markdown",
   "metadata": {},
   "source": [
    "### When considering a banking application, what's the most number one use for it?\n",
    "If you said *transferring and managing money* you're right!\n",
    "\n",
    "This project will cause you to think about what python skills you will need to build this application, and I hope that it brings it in a realistic and applicable way!"
   ]
  },
  {
   "cell_type": "markdown",
   "metadata": {},
   "source": [
    "## Table of Contents\n",
    "\n",
    "<div class=\"alert alert-block alert-info\" style=\"margin-top: 20px\">\n",
    "\n",
    "I.  [Objective](#0)<br>\n",
    "II.  [Application](#1)<br>\n",
    "III.  [Conclusion](#2)<br>\n",
    "    </div>\n",
    "    <hr>\n",
    "   "
   ]
  },
  {
   "cell_type": "markdown",
   "metadata": {},
   "source": [
    "# I. Objective<a id=\"0\"></a>\n",
    "\n",
    "Welcome to Greenwood Enterprises! As our new Software Engineer, we need you to create an interface so our \n",
    "customers can view their bank account information, make a purchase of one of our products, and have a receipt on their purchase!"
   ]
  },
  {
   "cell_type": "markdown",
   "metadata": {},
   "source": [
    "# II. Application<a id=\"1\"></a>\n",
    "First up create 4 variables that are best suitable for the following: Name, Bank Account Number, Routing Number, and budget. The bank account and routing number are **randomly generated 12 digit numbers**, and the budget should be $1000.00 "
   ]
  },
  {
   "cell_type": "markdown",
   "metadata": {},
   "source": [
    "<div class=\"alert alert-block alert-info\">\n",
    "<b>Bonus:</b> \n",
    "Create prompts for the name and budget and restrict the amount for the budget to be no higher than 5000 and no lower than 1000\n",
    "</div>"
   ]
  },
  {
   "cell_type": "code",
   "execution_count": null,
   "metadata": {},
   "outputs": [],
   "source": [
    "name =\n",
    "accountNumber =\n",
    "routingNumber =\n",
    "budget = "
   ]
  },
  {
   "cell_type": "markdown",
   "metadata": {},
   "source": [
    "Next we're going to create variables for 3 seperate products: Financial Advising, Portfolio Management, Data Analysis"
   ]
  },
  {
   "cell_type": "code",
   "execution_count": null,
   "metadata": {},
   "outputs": [],
   "source": [
    "product1 =\n",
    "product2 =\n",
    "product3 ="
   ]
  },
  {
   "cell_type": "markdown",
   "metadata": {},
   "source": [
    "Next create variables for 3 seperate plans for 300, 400, and 500 dollars."
   ]
  },
  {
   "cell_type": "code",
   "execution_count": null,
   "metadata": {},
   "outputs": [],
   "source": [
    "plan1 =\n",
    "plan2 =\n",
    "plan3 ="
   ]
  },
  {
   "cell_type": "markdown",
   "metadata": {},
   "source": [
    "Then create 3 variables for your membership status, the latefee status, and the status of your purchase"
   ]
  },
  {
   "cell_type": "code",
   "execution_count": null,
   "metadata": {},
   "outputs": [],
   "source": [
    "membership =\n",
    "lateFee =\n",
    "purchased ="
   ]
  },
  {
   "cell_type": "markdown",
   "metadata": {},
   "source": [
    "Now store each of the group of variables in sets and create a list that will store all of the product information"
   ]
  },
  {
   "cell_type": "code",
   "execution_count": null,
   "metadata": {},
   "outputs": [],
   "source": [
    "products ="
   ]
  },
  {
   "cell_type": "markdown",
   "metadata": {},
   "source": [
    "Create a list of months of year up until July, and another list of recent purchases with the following values:\n",
    "928.28, 362.29, 428.93, 467.19, 890.21, 1233.93, 763.37\n"
   ]
  },
  {
   "cell_type": "code",
   "execution_count": null,
   "metadata": {},
   "outputs": [],
   "source": []
  },
  {
   "cell_type": "markdown",
   "metadata": {},
   "source": [
    "<div class=\"alert alert-block alert-info\">\n",
    "<b>Bonus:</b> \n",
    "Instead of the preset values have random values instead.\n",
    "</div>"
   ]
  },
  {
   "cell_type": "markdown",
   "metadata": {},
   "source": [
    "Welcome the user to Greenwood Enterprises and prompt them for 3 seperate options: \"view account\", \"make purchase\", \"exit\".\n",
    "Be sure the program does not end until the user inputs \"exit\""
   ]
  },
  {
   "cell_type": "markdown",
   "metadata": {},
   "source": [
    "<div class=\"alert alert-block alert-info\">\n",
    "<b>Tip:</b> \n",
    "Your code should repeat until conditions are met... What would that entail?\n",
    "</div>"
   ]
  },
  {
   "cell_type": "code",
   "execution_count": null,
   "metadata": {},
   "outputs": [],
   "source": []
  },
  {
   "cell_type": "markdown",
   "metadata": {},
   "source": [
    "Under view account, display the user's bank account information history \n",
    "Plot a graph of the months up until July and recent purchases with the Title being \"Name's Bank Account history and display it\n",
    "If the user has made a purchase before, append the month \"August\" and the remaining balance to the other lists and display "
   ]
  },
  {
   "cell_type": "markdown",
   "metadata": {},
   "source": [
    "Under make purchase, prompt the user for input regarding which productss they would like to purchase, and prompt for which plan per product\n",
    "\n",
    "Note: **Plans 1 and 2 are compatible with products 1 and 2, plan 3 is only available for Product 3**"
   ]
  },
  {
   "cell_type": "markdown",
   "metadata": {},
   "source": [
    "Continue to prompt the user for input until they either do not have money remaining, or have decided to stop shopping."
   ]
  },
  {
   "cell_type": "markdown",
   "metadata": {},
   "source": [
    "After shopping, print a receipt of the user's Name, remaining balance, plans/products that were purhcased, and have the user return to the main menu. \n",
    "\n",
    "Take this and give a test run and see if your project can achieve this!"
   ]
  },
  {
   "cell_type": "code",
   "execution_count": null,
   "metadata": {},
   "outputs": [],
   "source": []
  },
  {
   "cell_type": "markdown",
   "metadata": {},
   "source": [
    "# III. Conclusion<a id=\"2\"></a>\n",
    "Make sure you double check your code. There's always more than one way to solve problems through coding, and the goal of the project is to get you to think on your own in a real-world scenario and what logic you'll use to solve this problem. I hope you enjoyed this project!"
   ]
  }
 ],
 "metadata": {
  "kernelspec": {
   "display_name": "Python 3",
   "language": "python",
   "name": "python3"
  },
  "language_info": {
   "codemirror_mode": {
    "name": "ipython",
    "version": 3
   },
   "file_extension": ".py",
   "mimetype": "text/x-python",
   "name": "python",
   "nbconvert_exporter": "python",
   "pygments_lexer": "ipython3",
   "version": "3.7.6"
  }
 },
 "nbformat": 4,
 "nbformat_minor": 4
}
