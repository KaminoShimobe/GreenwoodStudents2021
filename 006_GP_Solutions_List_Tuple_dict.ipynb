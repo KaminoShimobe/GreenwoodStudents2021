{
 "cells": [
  {
   "cell_type": "markdown",
   "metadata": {},
   "source": [
    "# GreenWood Project - Python Exercices: \n",
    "\n",
    "## Lists/tuples/Dictionnaries\n",
    "---"
   ]
  },
  {
   "cell_type": "code",
   "execution_count": 2,
   "metadata": {},
   "outputs": [],
   "source": [
    "import random\n",
    "import pandas as pd\n",
    "random.seed(55)"
   ]
  },
  {
   "cell_type": "markdown",
   "metadata": {},
   "source": [
    "### Question 1\n",
    "\n",
    "x is an integer.\n",
    "Return x with its digits reversed\n",
    "\n",
    "345 --> 543"
   ]
  },
  {
   "cell_type": "code",
   "execution_count": 3,
   "metadata": {},
   "outputs": [
    {
     "data": {
      "text/plain": [
       "543"
      ]
     },
     "execution_count": 3,
     "metadata": {},
     "output_type": "execute_result"
    }
   ],
   "source": [
    "x = 345\n",
    "\n",
    "int(str(x)[::-1])"
   ]
  },
  {
   "cell_type": "markdown",
   "metadata": {},
   "source": [
    "### Question 2\n",
    "\n",
    "Given a list, return <code>true</code> if any value appears at least three times in list.\n"
   ]
  },
  {
   "cell_type": "code",
   "execution_count": 3,
   "metadata": {},
   "outputs": [
    {
     "data": {
      "text/plain": [
       "[2, 4, 3, 5, 2, 3, 5, 2, 6, 11, 8, 9, 7, 7, 9]"
      ]
     },
     "execution_count": 3,
     "metadata": {},
     "output_type": "execute_result"
    }
   ],
   "source": [
    "lst = [random.randrange(1, 12, 1) for i in range(15)]\n",
    "lst"
   ]
  },
  {
   "cell_type": "code",
   "execution_count": 4,
   "metadata": {},
   "outputs": [
    {
     "data": {
      "text/plain": [
       "True"
      ]
     },
     "execution_count": 4,
     "metadata": {},
     "output_type": "execute_result"
    }
   ],
   "source": [
    "dupl = [lst.count(x) for x in lst]\n",
    "#\n",
    "any(x > 2 for x in set(dupl))"
   ]
  },
  {
   "cell_type": "markdown",
   "metadata": {},
   "source": [
    "### Question 3\n",
    "\n",
    "Given two integer lists , return a list of their intersection. Each element in the result must be unique."
   ]
  },
  {
   "cell_type": "code",
   "execution_count": 7,
   "metadata": {},
   "outputs": [
    {
     "data": {
      "text/plain": [
       "([7, 6, 7, 9, 1, 5, 1, 4, 9, 1], [19, 15, 8, 2, 13, 8, 3, 17])"
      ]
     },
     "execution_count": 7,
     "metadata": {},
     "output_type": "execute_result"
    }
   ],
   "source": [
    "lst_1 = [random.randrange(1, 10, 1) for i in range(10)]\n",
    "lst_2 = [random.randrange(1, 20, 1) for i in range(8)]\n",
    "lst_1,lst_2"
   ]
  },
  {
   "cell_type": "code",
   "execution_count": 9,
   "metadata": {},
   "outputs": [
    {
     "data": {
      "text/plain": [
       "set()"
      ]
     },
     "execution_count": 9,
     "metadata": {},
     "output_type": "execute_result"
    }
   ],
   "source": [
    "set(lst_1) & set(lst_2)"
   ]
  },
  {
   "cell_type": "markdown",
   "metadata": {},
   "source": [
    "### Question 4\n",
    "\n",
    "Given a list, Build a data type where each value of our list refers to the number of its occurences\n",
    "\n",
    "<code>lst = [2,3,2] ; data ={2:2,3:1}</code>\n",
    "\n",
    "Hence, 2 shows up 2 times and 3 shows up 1 time."
   ]
  },
  {
   "cell_type": "code",
   "execution_count": 11,
   "metadata": {},
   "outputs": [
    {
     "data": {
      "text/plain": [
       "[6, 3, 3, 3, 6, 2, 4, 5]"
      ]
     },
     "execution_count": 11,
     "metadata": {},
     "output_type": "execute_result"
    }
   ],
   "source": [
    "lst = [random.randrange(0,10, 1) for i in range(8)]\n",
    "lst"
   ]
  },
  {
   "cell_type": "code",
   "execution_count": 12,
   "metadata": {},
   "outputs": [
    {
     "data": {
      "text/plain": [
       "[2, 3, 3, 3, 2, 1, 1, 1]"
      ]
     },
     "execution_count": 12,
     "metadata": {},
     "output_type": "execute_result"
    }
   ],
   "source": [
    "dupl = [lst.count(x) for x in lst]\n",
    "dupl"
   ]
  },
  {
   "cell_type": "code",
   "execution_count": 13,
   "metadata": {},
   "outputs": [
    {
     "data": {
      "text/plain": [
       "{6: 2, 3: 3, 2: 1, 4: 1, 5: 1}"
      ]
     },
     "execution_count": 13,
     "metadata": {},
     "output_type": "execute_result"
    }
   ],
   "source": [
    "d = {}\n",
    "for key,val in zip(lst,dupl):\n",
    "    d[key] = val\n",
    "d"
   ]
  },
  {
   "cell_type": "markdown",
   "metadata": {},
   "source": [
    "### Question 5\n",
    "\n",
    "Given a list, build a new list where we substract the product of the first and the last element from each element."
   ]
  },
  {
   "cell_type": "code",
   "execution_count": 16,
   "metadata": {},
   "outputs": [
    {
     "data": {
      "text/plain": [
       "[3, 1, 2, 5, 1, 6, 5, 5, 3, 6]"
      ]
     },
     "execution_count": 16,
     "metadata": {},
     "output_type": "execute_result"
    }
   ],
   "source": [
    "lst = [random.randrange(0,7, 1) for i in range(10)]\n",
    "lst"
   ]
  },
  {
   "cell_type": "code",
   "execution_count": 17,
   "metadata": {},
   "outputs": [
    {
     "data": {
      "text/plain": [
       "[-15, -17, -16, -13, -17, -12, -13, -13, -15, -12]"
      ]
     },
     "execution_count": 17,
     "metadata": {},
     "output_type": "execute_result"
    }
   ],
   "source": [
    "p = lst[0]*lst[-1]\n",
    "[x-p for x in lst]"
   ]
  },
  {
   "cell_type": "markdown",
   "metadata": {},
   "source": [
    "### Question 6\n",
    "\n",
    "Write a Python script to concatenate following dictionaries to create a new one"
   ]
  },
  {
   "cell_type": "code",
   "execution_count": 18,
   "metadata": {},
   "outputs": [],
   "source": [
    "dict1={1:10, 2:20}\n",
    "dict2={3:30, 4:40}"
   ]
  },
  {
   "cell_type": "code",
   "execution_count": 20,
   "metadata": {},
   "outputs": [
    {
     "data": {
      "text/plain": [
       "{1: 10, 2: 20, 3: 30, 4: 40}"
      ]
     },
     "execution_count": 20,
     "metadata": {},
     "output_type": "execute_result"
    }
   ],
   "source": [
    "{**dict1, **dict2}"
   ]
  },
  {
   "cell_type": "markdown",
   "metadata": {},
   "source": [
    "### Question 7\n",
    "\n",
    "Write a Python program to multiply all the items in a dictionary.\n"
   ]
  },
  {
   "cell_type": "code",
   "execution_count": 1,
   "metadata": {},
   "outputs": [],
   "source": [
    "dict3 = {1: 10, 2: 20, 3: 30, 4: 40}"
   ]
  },
  {
   "cell_type": "code",
   "execution_count": 2,
   "metadata": {},
   "outputs": [
    {
     "data": {
      "text/plain": [
       "{1: 30, 2: 60, 3: 90, 4: 120}"
      ]
     },
     "execution_count": 2,
     "metadata": {},
     "output_type": "execute_result"
    }
   ],
   "source": [
    "result = 3\n",
    "for key in dict3.keys():    \n",
    "    dict3[key]=result * dict3[key] #  dict3[key] *= dict3\n",
    "dict3"
   ]
  },
  {
   "cell_type": "markdown",
   "metadata": {},
   "source": [
    "### Question 8\n",
    "\n",
    "Convert dictionnary of lists into list of lists"
   ]
  },
  {
   "cell_type": "code",
   "execution_count": 16,
   "metadata": {},
   "outputs": [],
   "source": [
    "d = {'a' : [1, 0, 2], 'c' : [4, 2], 'b' : [1, 2]}"
   ]
  },
  {
   "cell_type": "code",
   "execution_count": 17,
   "metadata": {},
   "outputs": [
    {
     "data": {
      "text/plain": [
       "[[1, 0, 2], [4, 2], [1, 2]]"
      ]
     },
     "execution_count": 17,
     "metadata": {},
     "output_type": "execute_result"
    }
   ],
   "source": [
    "[val for key, val in d.items()]"
   ]
  },
  {
   "cell_type": "markdown",
   "metadata": {},
   "source": [
    "### Question 9\n",
    "\n",
    "Convert 2D list into 1D list"
   ]
  },
  {
   "cell_type": "code",
   "execution_count": 14,
   "metadata": {},
   "outputs": [],
   "source": [
    "lst = [[1, 0, 2], [4, 2], [1, 2]]"
   ]
  },
  {
   "cell_type": "code",
   "execution_count": 19,
   "metadata": {},
   "outputs": [
    {
     "data": {
      "text/plain": [
       "[1, 0, 2, 4, 2, 1, 2]"
      ]
     },
     "execution_count": 19,
     "metadata": {},
     "output_type": "execute_result"
    }
   ],
   "source": [
    "[x for sub in lst for x in sub]"
   ]
  },
  {
   "cell_type": "code",
   "execution_count": 20,
   "metadata": {},
   "outputs": [
    {
     "data": {
      "text/plain": [
       "[1, 0, 2, 4, 2, 1, 2]"
      ]
     },
     "execution_count": 20,
     "metadata": {},
     "output_type": "execute_result"
    }
   ],
   "source": [
    "new = []\n",
    "for sub in lst:\n",
    "    for x in sub:\n",
    "        new.append(x)\n",
    "new"
   ]
  },
  {
   "cell_type": "markdown",
   "metadata": {},
   "source": [
    "### Question 10\n",
    "\n",
    " Extract Unique values from dictionary values"
   ]
  },
  {
   "cell_type": "code",
   "execution_count": 4,
   "metadata": {},
   "outputs": [
    {
     "data": {
      "text/plain": [
       "{'a': [0, 11, 12, 8], 'c': [10, 2, 9, 12], 'e': [1, 8, 12, 8], 'b': [1, 1, 5]}"
      ]
     },
     "execution_count": 4,
     "metadata": {},
     "output_type": "execute_result"
    }
   ],
   "source": [
    "d = {'a' : [0, 11, 12, 8],\n",
    "             'c' : [10, 2, 9, 12],\n",
    "             'e' : [1, 8, 12, 8],\n",
    "             'b' : [1, 1, 5]}\n",
    "d"
   ]
  },
  {
   "cell_type": "code",
   "execution_count": 3,
   "metadata": {},
   "outputs": [
    {
     "data": {
      "text/plain": [
       "{0, 1, 2, 5, 8, 9, 10, 11, 12}"
      ]
     },
     "execution_count": 3,
     "metadata": {},
     "output_type": "execute_result"
    }
   ],
   "source": [
    "set([x for sub in d.values() for x in sub])"
   ]
  },
  {
   "cell_type": "markdown",
   "metadata": {},
   "source": [
    "### Question 11\n",
    "\n",
    "Build an adequate data type where the target currencies are linked to their relative pairs.\n",
    "\n",
    "Example:\n",
    "<code> 'CAD': 'CAD/JPY','CAD/CHF'</code>,..."
   ]
  },
  {
   "cell_type": "code",
   "execution_count": 23,
   "metadata": {},
   "outputs": [],
   "source": [
    "currs = [\"AUD/CAD\",\"CHF/JPY\",\"EUR/NZD\",\"GBP/JPY\",\"TRY/JPY\",\"USD/NOK\",\"AUD/CHF\",\"EUR/AUD\",\"EUR/SEK\",\"GBP/NZD\",\"USD/CAD\",\n",
    "\"USD/SEK\",\"AUD/JPY\",\"EUR/CAD\",\"EUR/TRY\",\"GBP/USD\",\"USD/CHF\",\"USD/TRY\",\"AUD/NZD\",\"EUR/CHF\",\"EUR/USD\",\"NZD/CAD\",\n",
    "\"USD/CNH\",\"USD/ZAR\",\"AUD/USD\",\"EUR/GBP\",\"GBP/AUD\",\"NZD/CHF\",\"USD/HKD\",\"ZAR/JPY\",\"CAD/CHF\",\"EUR/JPY\",\"GBP/CAD\",\n",
    "\"NZD/JPY\",\"USD/JPY\",\"CAD/JPY\",\"EUR/NOK\",\"GBP/CHF\",\"NZD/USD\",\"USD/MXN\"]\n",
    "\n",
    "target = ['CAD','NZD','USD','AUD']"
   ]
  },
  {
   "cell_type": "code",
   "execution_count": 24,
   "metadata": {},
   "outputs": [
    {
     "data": {
      "text/plain": [
       "{'CAD': [], 'NZD': [], 'USD': [], 'AUD': []}"
      ]
     },
     "execution_count": 24,
     "metadata": {},
     "output_type": "execute_result"
    }
   ],
   "source": [
    "d = dict()\n",
    "for key in target:\n",
    "    d[key]=  []\n",
    "d"
   ]
  },
  {
   "cell_type": "code",
   "execution_count": 25,
   "metadata": {},
   "outputs": [
    {
     "data": {
      "text/plain": [
       "{'CAD': ['CAD/CHF', 'CAD/JPY'],\n",
       " 'NZD': ['NZD/CAD', 'NZD/CHF', 'NZD/JPY', 'NZD/USD'],\n",
       " 'USD': ['USD/NOK',\n",
       "  'USD/CAD',\n",
       "  'USD/SEK',\n",
       "  'USD/CHF',\n",
       "  'USD/TRY',\n",
       "  'USD/CNH',\n",
       "  'USD/ZAR',\n",
       "  'USD/HKD',\n",
       "  'USD/JPY',\n",
       "  'USD/MXN'],\n",
       " 'AUD': ['AUD/CAD', 'AUD/CHF', 'AUD/JPY', 'AUD/NZD', 'AUD/USD']}"
      ]
     },
     "execution_count": 25,
     "metadata": {},
     "output_type": "execute_result"
    }
   ],
   "source": [
    "for curr in currs:\n",
    "    for key in target:\n",
    "        if curr[:3] == key:\n",
    "            #print(curr)\n",
    "            d[key].append(curr)\n",
    "d"
   ]
  },
  {
   "cell_type": "markdown",
   "metadata": {},
   "source": [
    "### Question 12\n",
    "\n",
    "Let's consider 5 companies with their relative revenues, expenses and currency for each one.\n",
    "\n",
    "1. Build an adequate data type to store all of these informations"
   ]
  },
  {
   "cell_type": "code",
   "execution_count": 1,
   "metadata": {},
   "outputs": [],
   "source": [
    "companies =('A','C','D','B','E')\n",
    "revenues = (3.18E12,7.22E9,6.54E11,5.12E10,4.89E9)\n",
    "expenses = (8.18E5,9.22E7,9.54E11,6.12E12,9.11E10)\n",
    "currencies = ('EUR','JPY','GBP','USD','CAD')"
   ]
  },
  {
   "cell_type": "code",
   "execution_count": 2,
   "metadata": {},
   "outputs": [
    {
     "data": {
      "text/plain": [
       "{'company': ('A', 'C', 'D', 'B', 'E'),\n",
       " 'revenues': (3180000000000.0,\n",
       "  7220000000.0,\n",
       "  654000000000.0,\n",
       "  51200000000.0,\n",
       "  4890000000.0),\n",
       " 'expenses': (818000.0,\n",
       "  92200000.0,\n",
       "  954000000000.0,\n",
       "  6120000000000.0,\n",
       "  91100000000.0),\n",
       " 'currencies': ('EUR', 'JPY', 'GBP', 'USD', 'CAD')}"
      ]
     },
     "execution_count": 2,
     "metadata": {},
     "output_type": "execute_result"
    }
   ],
   "source": [
    "data = dict()\n",
    "data['company'] = companies\n",
    "data['revenues'] = revenues\n",
    "data['expenses'] = expenses\n",
    "data['currencies'] = currencies\n",
    "data"
   ]
  },
  {
   "cell_type": "code",
   "execution_count": 3,
   "metadata": {},
   "outputs": [
    {
     "data": {
      "text/plain": [
       "{'company': ('A', 'C', 'D', 'B', 'E'),\n",
       " 'revenues': (3180000000000.0,\n",
       "  7220000000.0,\n",
       "  654000000000.0,\n",
       "  51200000000.0,\n",
       "  4890000000.0),\n",
       " 'expenses': (818000.0,\n",
       "  92200000.0,\n",
       "  954000000000.0,\n",
       "  6120000000000.0,\n",
       "  91100000000.0),\n",
       " 'currencies': ('EUR', 'JPY', 'GBP', 'USD', 'CAD')}"
      ]
     },
     "execution_count": 3,
     "metadata": {},
     "output_type": "execute_result"
    }
   ],
   "source": [
    "# or\n",
    "vals = (companies,revenues,expenses, currencies)\n",
    "for key,val in zip(('company','revenues','expenses','currencies'),vals):\n",
    "    data[key] = val\n",
    "data"
   ]
  },
  {
   "cell_type": "markdown",
   "metadata": {},
   "source": [
    "### Question 13\n",
    "\n",
    "Result data are such as\n",
    "<code> result = revenues - expenses</code>\n",
    "\n",
    "Add result data."
   ]
  },
  {
   "cell_type": "code",
   "execution_count": 4,
   "metadata": {},
   "outputs": [
    {
     "data": {
      "text/plain": [
       "{'company': ('A', 'C', 'D', 'B', 'E'),\n",
       " 'revenues': (3180000000000.0,\n",
       "  7220000000.0,\n",
       "  654000000000.0,\n",
       "  51200000000.0,\n",
       "  4890000000.0),\n",
       " 'expenses': (818000.0,\n",
       "  92200000.0,\n",
       "  954000000000.0,\n",
       "  6120000000000.0,\n",
       "  91100000000.0),\n",
       " 'currencies': ('EUR', 'JPY', 'GBP', 'USD', 'CAD'),\n",
       " 'results': (3179999182000.0,\n",
       "  7127800000.0,\n",
       "  -300000000000.0,\n",
       "  -6068800000000.0,\n",
       "  -86210000000.0)}"
      ]
     },
     "execution_count": 4,
     "metadata": {},
     "output_type": "execute_result"
    }
   ],
   "source": [
    "data['results'] = tuple((x-y for x,y in zip(data['revenues'],data['expenses'])))\n",
    "data"
   ]
  },
  {
   "cell_type": "markdown",
   "metadata": {},
   "source": [
    "## Question 14\n",
    "\n",
    "Add new result data in USD where conversion rates are:\n",
    "\n",
    "* USD/EUR: 0.85\n",
    "* USD/JPY: 1.21\n",
    "* USD/GBP: 0.81\n",
    "* USD/CAD: 0.92"
   ]
  },
  {
   "cell_type": "code",
   "execution_count": 5,
   "metadata": {},
   "outputs": [],
   "source": [
    "rates = [0.85,1.21,0.81,1,0.92]"
   ]
  },
  {
   "cell_type": "code",
   "execution_count": 30,
   "metadata": {},
   "outputs": [],
   "source": [
    "data['results_USD'] = tuple(x*r for r,x in zip(rates,data['results']))"
   ]
  },
  {
   "cell_type": "code",
   "execution_count": 31,
   "metadata": {},
   "outputs": [
    {
     "data": {
      "text/plain": [
       "{'company': ('A', 'C', 'D', 'B', 'E'),\n",
       " 'revenues': (3180000000000.0,\n",
       "  7220000000.0,\n",
       "  654000000000.0,\n",
       "  51200000000.0,\n",
       "  4890000000.0),\n",
       " 'expenses': (818000.0,\n",
       "  92200000.0,\n",
       "  954000000000.0,\n",
       "  6120000000000.0,\n",
       "  91100000000.0),\n",
       " 'currencies': ('EUR', 'JPY', 'GBP', 'USD', 'CAD'),\n",
       " 'results': (3179999182000.0,\n",
       "  7127800000.0,\n",
       "  -300000000000.0,\n",
       "  -6068800000000.0,\n",
       "  -86210000000.0),\n",
       " 'results_USD': (2702999304700.0,\n",
       "  8624638000.0,\n",
       "  -243000000000.00003,\n",
       "  -6068800000000.0,\n",
       "  -79313200000.0)}"
      ]
     },
     "execution_count": 31,
     "metadata": {},
     "output_type": "execute_result"
    }
   ],
   "source": [
    "data"
   ]
  },
  {
   "cell_type": "code",
   "execution_count": 24,
   "metadata": {},
   "outputs": [
    {
     "data": {
      "text/html": [
       "<div>\n",
       "<style scoped>\n",
       "    .dataframe tbody tr th:only-of-type {\n",
       "        vertical-align: middle;\n",
       "    }\n",
       "\n",
       "    .dataframe tbody tr th {\n",
       "        vertical-align: top;\n",
       "    }\n",
       "\n",
       "    .dataframe thead th {\n",
       "        text-align: right;\n",
       "    }\n",
       "</style>\n",
       "<table border=\"1\" class=\"dataframe\">\n",
       "  <thead>\n",
       "    <tr style=\"text-align: right;\">\n",
       "      <th></th>\n",
       "      <th>company</th>\n",
       "      <th>revenues</th>\n",
       "      <th>expenses</th>\n",
       "      <th>currencies</th>\n",
       "      <th>results</th>\n",
       "      <th>results_USD</th>\n",
       "    </tr>\n",
       "  </thead>\n",
       "  <tbody>\n",
       "    <tr>\n",
       "      <th>0</th>\n",
       "      <td>A</td>\n",
       "      <td>3.180000e+12</td>\n",
       "      <td>8.180000e+05</td>\n",
       "      <td>EUR</td>\n",
       "      <td>3.179999e+12</td>\n",
       "      <td>3.741176e+12</td>\n",
       "    </tr>\n",
       "    <tr>\n",
       "      <th>1</th>\n",
       "      <td>C</td>\n",
       "      <td>7.220000e+09</td>\n",
       "      <td>9.220000e+07</td>\n",
       "      <td>JPY</td>\n",
       "      <td>7.127800e+09</td>\n",
       "      <td>5.890744e+09</td>\n",
       "    </tr>\n",
       "    <tr>\n",
       "      <th>2</th>\n",
       "      <td>D</td>\n",
       "      <td>6.540000e+11</td>\n",
       "      <td>9.540000e+11</td>\n",
       "      <td>GBP</td>\n",
       "      <td>-3.000000e+11</td>\n",
       "      <td>-3.703704e+11</td>\n",
       "    </tr>\n",
       "    <tr>\n",
       "      <th>3</th>\n",
       "      <td>B</td>\n",
       "      <td>5.120000e+10</td>\n",
       "      <td>6.120000e+12</td>\n",
       "      <td>USD</td>\n",
       "      <td>-6.068800e+12</td>\n",
       "      <td>-6.068800e+12</td>\n",
       "    </tr>\n",
       "    <tr>\n",
       "      <th>4</th>\n",
       "      <td>E</td>\n",
       "      <td>4.890000e+09</td>\n",
       "      <td>9.110000e+10</td>\n",
       "      <td>CAD</td>\n",
       "      <td>-8.621000e+10</td>\n",
       "      <td>-9.370652e+10</td>\n",
       "    </tr>\n",
       "  </tbody>\n",
       "</table>\n",
       "</div>"
      ],
      "text/plain": [
       "  company      revenues      expenses currencies       results   results_USD\n",
       "0       A  3.180000e+12  8.180000e+05        EUR  3.179999e+12  3.741176e+12\n",
       "1       C  7.220000e+09  9.220000e+07        JPY  7.127800e+09  5.890744e+09\n",
       "2       D  6.540000e+11  9.540000e+11        GBP -3.000000e+11 -3.703704e+11\n",
       "3       B  5.120000e+10  6.120000e+12        USD -6.068800e+12 -6.068800e+12\n",
       "4       E  4.890000e+09  9.110000e+10        CAD -8.621000e+10 -9.370652e+10"
      ]
     },
     "execution_count": 24,
     "metadata": {},
     "output_type": "execute_result"
    }
   ],
   "source": [
    "pd.DataFrame(data)"
   ]
  },
  {
   "cell_type": "markdown",
   "metadata": {},
   "source": [
    "## Great job!"
   ]
  }
 ],
 "metadata": {
  "kernelspec": {
   "display_name": "Python 3",
   "language": "python",
   "name": "python3"
  },
  "language_info": {
   "codemirror_mode": {
    "name": "ipython",
    "version": 3
   },
   "file_extension": ".py",
   "mimetype": "text/x-python",
   "name": "python",
   "nbconvert_exporter": "python",
   "pygments_lexer": "ipython3",
   "version": "3.8.6"
  }
 },
 "nbformat": 4,
 "nbformat_minor": 5
}
