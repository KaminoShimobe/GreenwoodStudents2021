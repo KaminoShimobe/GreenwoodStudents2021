{
 "cells": [
  {
   "cell_type": "markdown",
   "metadata": {},
   "source": [
    "# GreenWood Project - Python Course: \n",
    "\n",
    "## Statements/Conditionnals Part 2 - Exercises + Solutions\n",
    "---"
   ]
  },
  {
   "cell_type": "markdown",
   "metadata": {},
   "source": [
    "## Question 1\n",
    "\n",
    "1. Given a list of <code>companies</code>, find the starting and ending position of a given company value.\n",
    "\n",
    "    If target is not found in the array, return -1\n",
    "    \n",
    "    \n",
    "2. Use a while loop to check comapany's name length and exit it when length is higher than 3\n",
    "\n",
    "\n",
    "3. Same as previous questions, but exit when a company's name startswith 'MR'"
   ]
  },
  {
   "cell_type": "code",
   "execution_count": 16,
   "metadata": {},
   "outputs": [
    {
     "data": {
      "text/plain": [
       "['MU', 'AMD', 'AUY', 'BIIB', 'MRK', 'ADBE', 'AMD', 'ADBE', 'AUY']"
      ]
     },
     "execution_count": 16,
     "metadata": {},
     "output_type": "execute_result"
    }
   ],
   "source": [
    "target = 'AUY'\n",
    "companies = ['MU','AMD','AUY','BIIB','MRK','ADBE','AMD','ADBE','AUY']\n",
    "companies"
   ]
  },
  {
   "cell_type": "markdown",
   "metadata": {},
   "source": [
    "**2. Use a while loop to check comapany's name length and exit it when length is higher than 3**"
   ]
  },
  {
   "cell_type": "markdown",
   "metadata": {},
   "source": [
    "**3. Same as previous questions, but exit when a company's name startswith 'M'**"
   ]
  },
  {
   "cell_type": "markdown",
   "metadata": {},
   "source": [
    "## Question 2\n"
   ]
  },
  {
   "cell_type": "markdown",
   "metadata": {},
   "source": [
    "You have list of monthly <code>revenues</code> and a list of month ranges, where <code>months[i]</code> is a pair with a start Month and an end month.\n",
    "\n",
    "1. Return a list of the sum of the elements in <code>revenues</code> from the indices at <code>moths[i][0]</code> to <code>moths[i][1]</code> for each sublist.\n",
    "2. How do you verify you result is correct ?"
   ]
  },
  {
   "cell_type": "code",
   "execution_count": 7,
   "metadata": {},
   "outputs": [],
   "source": [
    "revenues = [7e3,4e5,2e3,1e1,1e4,300,1e5,0,0,0,1e6,1e7]\n",
    "months = [[0, 3], [3, 6], [6, 9], [9, 12]]"
   ]
  },
  {
   "cell_type": "markdown",
   "metadata": {},
   "source": [
    "2. Previous list <code>months</code>  represents quarters in a year. \n",
    "- Create an adequate data type where you store this list values in USD and the correponding quarter to each value.\n",
    "- Print the whole year revenues"
   ]
  },
  {
   "cell_type": "markdown",
   "metadata": {},
   "source": [
    "## Question 3\n",
    "\n",
    "Given an list of <code>sectors</code>, determine whether it follows the sequence given in the <code>industries</code> array. \n",
    "\n",
    "In other words, there should be no i and j for which;\n",
    "sectors[i] = sectors[j] and industries[i] ≠ industries[j] or for which sectors[i] ≠ sectors[j] and industries[i] = industries[j]\n"
   ]
  },
  {
   "cell_type": "code",
   "execution_count": 12,
   "metadata": {},
   "outputs": [
    {
     "data": {
      "text/plain": [
       "(['Materials', 'Financials', 'Materials'],\n",
       " ['Technology Hardware', 'Semiconductors', 'Healthcare'])"
      ]
     },
     "execution_count": 12,
     "metadata": {},
     "output_type": "execute_result"
    }
   ],
   "source": [
    "sectors = [\"Materials\", \"Financials\", \"Materials\" ]\n",
    "industries = [\"Technology Hardware\", \"Semiconductors\", \"Healthcare\"]\n",
    "sectors, industries"
   ]
  },
  {
   "cell_type": "markdown",
   "metadata": {},
   "source": [
    "## Question 4\n",
    "\n",
    "You are given a list <code>sectors</code>, where each element consists of a list of strings beginning with the name of the sector, followed by all <code>sub-sectors</code> . You want to group the sectors by sub-sectors, so that for each sub-sectors you'll be able to find all the sectors that contain it (if there are at least 2 sub sectors).\n",
    "\n",
    "Return a list where each element is a list beginning with the sub-sector name, followed by the names of all the sectors that contain this sub-sector."
   ]
  },
  {
   "cell_type": "code",
   "execution_count": 14,
   "metadata": {},
   "outputs": [
    {
     "data": {
      "text/plain": [
       "[['Information Technology',\n",
       "  'Software and Services',\n",
       "  'Hardware',\n",
       "  'Semiconductors',\n",
       "  'Communications Equipment'],\n",
       " ['Healthcare', 'biotechnology', 'manufacturers', 'Sauce', 'Dough'],\n",
       " ['Energy',\n",
       "  'Oil & gas',\n",
       "  'power firms',\n",
       "  'Software and Services',\n",
       "  'manufacturers'],\n",
       " ['Materials',\n",
       "  'Hardware',\n",
       "  'Software and Services',\n",
       "  'Oil & gas',\n",
       "  'Semiconductors']]"
      ]
     },
     "execution_count": 14,
     "metadata": {},
     "output_type": "execute_result"
    }
   ],
   "source": [
    "sectors = [[\"Information Technology\", \"Software and Services\", \"Hardware\", \"Semiconductors\", \"Communications Equipment\"],\n",
    "            [\"Healthcare\", \"biotechnology\", \"manufacturers\", \"Sauce\", \"Dough\"],\n",
    "            [\"Energy\", \"Oil & gas\", \"power firms\", \"Software and Services\",\"manufacturers\"],\n",
    "            [\"Materials\", \"Hardware\", \"Software and Services\", \"Oil & gas\", \"Semiconductors\"]]\n",
    "sectors"
   ]
  },
  {
   "cell_type": "code",
   "execution_count": 5,
   "metadata": {},
   "outputs": [
    {
     "data": {
      "text/plain": [
       "[['Hardware', 'Information Technology', 'Materials'],\n",
       " ['Oil & gas', 'Energy', 'Materials'],\n",
       " ['Semiconductors', 'Information Technology', 'Materials'],\n",
       " ['Software and Services', 'Energy', 'Information Technology', 'Materials'],\n",
       " ['manufacturers', 'Energy', 'Healthcare']]"
      ]
     },
     "execution_count": 5,
     "metadata": {},
     "output_type": "execute_result"
    }
   ],
   "source": [
    "output = [['Hardware', 'Information Technology', 'Materials'],\n",
    " ['Oil & gas', 'Energy', 'Materials'],\n",
    " ['Semiconductors', 'Information Technology', 'Materials'],\n",
    " ['Software and Services', 'Energy', 'Information Technology', 'Materials'],\n",
    " ['manufacturers', 'Energy', 'Healthcare']]\n",
    "output"
   ]
  },
  {
   "cell_type": "markdown",
   "metadata": {},
   "source": [
    "# Great job!"
   ]
  }
 ],
 "metadata": {
  "kernelspec": {
   "display_name": "Python 3",
   "language": "python",
   "name": "python3"
  },
  "language_info": {
   "codemirror_mode": {
    "name": "ipython",
    "version": 3
   },
   "file_extension": ".py",
   "mimetype": "text/x-python",
   "name": "python",
   "nbconvert_exporter": "python",
   "pygments_lexer": "ipython3",
   "version": "3.8.6"
  }
 },
 "nbformat": 4,
 "nbformat_minor": 5
}
